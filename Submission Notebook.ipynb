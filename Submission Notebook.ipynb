{
 "cells": [
  {
   "cell_type": "code",
   "execution_count": 44,
   "metadata": {
    "id": "jdv4DqLwDkma"
   },
   "outputs": [
    {
     "name": "stderr",
     "output_type": "stream",
     "text": [
      "[nltk_data] Downloading package stopwords to\n",
      "[nltk_data]     /home/krypticmouse/nltk_data...\n",
      "[nltk_data]   Package stopwords is already up-to-date!\n",
      "[nltk_data] Downloading package punkt to\n",
      "[nltk_data]     /home/krypticmouse/nltk_data...\n",
      "[nltk_data]   Package punkt is already up-to-date!\n"
     ]
    }
   ],
   "source": [
    "import re\n",
    "import nltk\n",
    "import json\n",
    "import numpy as np\n",
    "import pandas as pd\n",
    "import seaborn as sns\n",
    "import matplotlib.pyplot as plt\n",
    "\n",
    "from tqdm.notebook import tqdm\n",
    "from nltk.corpus import stopwords\n",
    "from nltk import word_tokenize\n",
    "from nltk.stem import PorterStemmer\n",
    "\n",
    "from sklearn.feature_extraction.text import TfidfVectorizer\n",
    "from xgboost import XGBClassifier\n",
    "from sklearn.metrics import roc_auc_score\n",
    "from sklearn.model_selection import cross_validate\n",
    "import warnings\n",
    "from sklearn.metrics import classification_report\n",
    "\n",
    "sns.set_style('darkgrid')\n",
    "warnings.filterwarnings('ignore')\n",
    "nltk.download('stopwords')\n",
    "nltk.download('punkt')\n",
    "tqdm.pandas()"
   ]
  },
  {
   "cell_type": "code",
   "execution_count": 45,
   "metadata": {
    "colab": {
     "base_uri": "https://localhost:8080/",
     "height": 496
    },
    "id": "Rl5s5jBqGK19",
    "outputId": "70087ac5-9ebb-44de-de64-9ce46301f3e8"
   },
   "outputs": [
    {
     "data": {
      "text/html": [
       "<div>\n",
       "<style scoped>\n",
       "    .dataframe tbody tr th:only-of-type {\n",
       "        vertical-align: middle;\n",
       "    }\n",
       "\n",
       "    .dataframe tbody tr th {\n",
       "        vertical-align: top;\n",
       "    }\n",
       "\n",
       "    .dataframe thead th {\n",
       "        text-align: right;\n",
       "    }\n",
       "</style>\n",
       "<table border=\"1\" class=\"dataframe\">\n",
       "  <thead>\n",
       "    <tr style=\"text-align: right;\">\n",
       "      <th></th>\n",
       "      <th>url</th>\n",
       "      <th>urlid</th>\n",
       "      <th>boilerplate</th>\n",
       "      <th>alchemy_category</th>\n",
       "      <th>alchemy_category_score</th>\n",
       "      <th>avglinksize</th>\n",
       "      <th>commonlinkratio_1</th>\n",
       "      <th>commonlinkratio_2</th>\n",
       "      <th>commonlinkratio_3</th>\n",
       "      <th>commonlinkratio_4</th>\n",
       "      <th>...</th>\n",
       "      <th>is_news</th>\n",
       "      <th>lengthyLinkDomain</th>\n",
       "      <th>linkwordscore</th>\n",
       "      <th>news_front_page</th>\n",
       "      <th>non_markup_alphanum_characters</th>\n",
       "      <th>numberOfLinks</th>\n",
       "      <th>numwords_in_url</th>\n",
       "      <th>parametrizedLinkRatio</th>\n",
       "      <th>spelling_errors_ratio</th>\n",
       "      <th>label</th>\n",
       "    </tr>\n",
       "  </thead>\n",
       "  <tbody>\n",
       "    <tr>\n",
       "      <th>0</th>\n",
       "      <td>http://www.bloomberg.com/news/2010-12-23/ibm-p...</td>\n",
       "      <td>4042</td>\n",
       "      <td>{\"title\":\"IBM Sees Holographic Calls Air Breat...</td>\n",
       "      <td>business</td>\n",
       "      <td>0.789131</td>\n",
       "      <td>2.055556</td>\n",
       "      <td>0.676471</td>\n",
       "      <td>0.205882</td>\n",
       "      <td>0.047059</td>\n",
       "      <td>0.023529</td>\n",
       "      <td>...</td>\n",
       "      <td>1.0</td>\n",
       "      <td>1</td>\n",
       "      <td>24</td>\n",
       "      <td>0.0</td>\n",
       "      <td>5424</td>\n",
       "      <td>170</td>\n",
       "      <td>8</td>\n",
       "      <td>0.152941</td>\n",
       "      <td>0.079130</td>\n",
       "      <td>0</td>\n",
       "    </tr>\n",
       "    <tr>\n",
       "      <th>1</th>\n",
       "      <td>http://www.popsci.com/technology/article/2012-...</td>\n",
       "      <td>8471</td>\n",
       "      <td>{\"title\":\"The Fully Electronic Futuristic Star...</td>\n",
       "      <td>recreation</td>\n",
       "      <td>0.574147</td>\n",
       "      <td>3.677966</td>\n",
       "      <td>0.508021</td>\n",
       "      <td>0.288770</td>\n",
       "      <td>0.213904</td>\n",
       "      <td>0.144385</td>\n",
       "      <td>...</td>\n",
       "      <td>1.0</td>\n",
       "      <td>1</td>\n",
       "      <td>40</td>\n",
       "      <td>0.0</td>\n",
       "      <td>4973</td>\n",
       "      <td>187</td>\n",
       "      <td>9</td>\n",
       "      <td>0.181818</td>\n",
       "      <td>0.125448</td>\n",
       "      <td>1</td>\n",
       "    </tr>\n",
       "    <tr>\n",
       "      <th>2</th>\n",
       "      <td>http://www.menshealth.com/health/flu-fighting-...</td>\n",
       "      <td>1164</td>\n",
       "      <td>{\"title\":\"Fruits that Fight the Flu fruits tha...</td>\n",
       "      <td>health</td>\n",
       "      <td>0.996526</td>\n",
       "      <td>2.382883</td>\n",
       "      <td>0.562016</td>\n",
       "      <td>0.321705</td>\n",
       "      <td>0.120155</td>\n",
       "      <td>0.042636</td>\n",
       "      <td>...</td>\n",
       "      <td>1.0</td>\n",
       "      <td>1</td>\n",
       "      <td>55</td>\n",
       "      <td>0.0</td>\n",
       "      <td>2240</td>\n",
       "      <td>258</td>\n",
       "      <td>11</td>\n",
       "      <td>0.166667</td>\n",
       "      <td>0.057613</td>\n",
       "      <td>1</td>\n",
       "    </tr>\n",
       "    <tr>\n",
       "      <th>3</th>\n",
       "      <td>http://www.dumblittleman.com/2007/12/10-foolpr...</td>\n",
       "      <td>6684</td>\n",
       "      <td>{\"title\":\"10 Foolproof Tips for Better Sleep \"...</td>\n",
       "      <td>health</td>\n",
       "      <td>0.801248</td>\n",
       "      <td>1.543103</td>\n",
       "      <td>0.400000</td>\n",
       "      <td>0.100000</td>\n",
       "      <td>0.016667</td>\n",
       "      <td>0.000000</td>\n",
       "      <td>...</td>\n",
       "      <td>1.0</td>\n",
       "      <td>0</td>\n",
       "      <td>24</td>\n",
       "      <td>0.0</td>\n",
       "      <td>2737</td>\n",
       "      <td>120</td>\n",
       "      <td>5</td>\n",
       "      <td>0.041667</td>\n",
       "      <td>0.100858</td>\n",
       "      <td>1</td>\n",
       "    </tr>\n",
       "    <tr>\n",
       "      <th>4</th>\n",
       "      <td>http://bleacherreport.com/articles/1205138-the...</td>\n",
       "      <td>9006</td>\n",
       "      <td>{\"title\":\"The 50 Coolest Jerseys You Didn t Kn...</td>\n",
       "      <td>sports</td>\n",
       "      <td>0.719157</td>\n",
       "      <td>2.676471</td>\n",
       "      <td>0.500000</td>\n",
       "      <td>0.222222</td>\n",
       "      <td>0.123457</td>\n",
       "      <td>0.043210</td>\n",
       "      <td>...</td>\n",
       "      <td>1.0</td>\n",
       "      <td>1</td>\n",
       "      <td>14</td>\n",
       "      <td>0.0</td>\n",
       "      <td>12032</td>\n",
       "      <td>162</td>\n",
       "      <td>10</td>\n",
       "      <td>0.098765</td>\n",
       "      <td>0.082569</td>\n",
       "      <td>0</td>\n",
       "    </tr>\n",
       "  </tbody>\n",
       "</table>\n",
       "<p>5 rows × 27 columns</p>\n",
       "</div>"
      ],
      "text/plain": [
       "                                                 url  urlid  \\\n",
       "0  http://www.bloomberg.com/news/2010-12-23/ibm-p...   4042   \n",
       "1  http://www.popsci.com/technology/article/2012-...   8471   \n",
       "2  http://www.menshealth.com/health/flu-fighting-...   1164   \n",
       "3  http://www.dumblittleman.com/2007/12/10-foolpr...   6684   \n",
       "4  http://bleacherreport.com/articles/1205138-the...   9006   \n",
       "\n",
       "                                         boilerplate alchemy_category  \\\n",
       "0  {\"title\":\"IBM Sees Holographic Calls Air Breat...         business   \n",
       "1  {\"title\":\"The Fully Electronic Futuristic Star...       recreation   \n",
       "2  {\"title\":\"Fruits that Fight the Flu fruits tha...           health   \n",
       "3  {\"title\":\"10 Foolproof Tips for Better Sleep \"...           health   \n",
       "4  {\"title\":\"The 50 Coolest Jerseys You Didn t Kn...           sports   \n",
       "\n",
       "   alchemy_category_score  avglinksize  commonlinkratio_1  commonlinkratio_2  \\\n",
       "0                0.789131     2.055556           0.676471           0.205882   \n",
       "1                0.574147     3.677966           0.508021           0.288770   \n",
       "2                0.996526     2.382883           0.562016           0.321705   \n",
       "3                0.801248     1.543103           0.400000           0.100000   \n",
       "4                0.719157     2.676471           0.500000           0.222222   \n",
       "\n",
       "   commonlinkratio_3  commonlinkratio_4  ...  is_news  lengthyLinkDomain  \\\n",
       "0           0.047059           0.023529  ...      1.0                  1   \n",
       "1           0.213904           0.144385  ...      1.0                  1   \n",
       "2           0.120155           0.042636  ...      1.0                  1   \n",
       "3           0.016667           0.000000  ...      1.0                  0   \n",
       "4           0.123457           0.043210  ...      1.0                  1   \n",
       "\n",
       "   linkwordscore  news_front_page  non_markup_alphanum_characters  \\\n",
       "0             24              0.0                            5424   \n",
       "1             40              0.0                            4973   \n",
       "2             55              0.0                            2240   \n",
       "3             24              0.0                            2737   \n",
       "4             14              0.0                           12032   \n",
       "\n",
       "   numberOfLinks  numwords_in_url  parametrizedLinkRatio  \\\n",
       "0            170                8               0.152941   \n",
       "1            187                9               0.181818   \n",
       "2            258               11               0.166667   \n",
       "3            120                5               0.041667   \n",
       "4            162               10               0.098765   \n",
       "\n",
       "   spelling_errors_ratio  label  \n",
       "0               0.079130      0  \n",
       "1               0.125448      1  \n",
       "2               0.057613      1  \n",
       "3               0.100858      1  \n",
       "4               0.082569      0  \n",
       "\n",
       "[5 rows x 27 columns]"
      ]
     },
     "execution_count": 45,
     "metadata": {},
     "output_type": "execute_result"
    }
   ],
   "source": [
    "train = pd.read_csv('train.tsv', sep = '\\t', na_values = '?')\n",
    "train.head()"
   ]
  },
  {
   "cell_type": "code",
   "execution_count": 46,
   "metadata": {},
   "outputs": [
    {
     "data": {
      "text/html": [
       "<div>\n",
       "<style scoped>\n",
       "    .dataframe tbody tr th:only-of-type {\n",
       "        vertical-align: middle;\n",
       "    }\n",
       "\n",
       "    .dataframe tbody tr th {\n",
       "        vertical-align: top;\n",
       "    }\n",
       "\n",
       "    .dataframe thead th {\n",
       "        text-align: right;\n",
       "    }\n",
       "</style>\n",
       "<table border=\"1\" class=\"dataframe\">\n",
       "  <thead>\n",
       "    <tr style=\"text-align: right;\">\n",
       "      <th></th>\n",
       "      <th>url</th>\n",
       "      <th>urlid</th>\n",
       "      <th>boilerplate</th>\n",
       "      <th>alchemy_category</th>\n",
       "      <th>alchemy_category_score</th>\n",
       "      <th>avglinksize</th>\n",
       "      <th>commonlinkratio_1</th>\n",
       "      <th>commonlinkratio_2</th>\n",
       "      <th>commonlinkratio_3</th>\n",
       "      <th>commonlinkratio_4</th>\n",
       "      <th>...</th>\n",
       "      <th>image_ratio</th>\n",
       "      <th>is_news</th>\n",
       "      <th>lengthyLinkDomain</th>\n",
       "      <th>linkwordscore</th>\n",
       "      <th>news_front_page</th>\n",
       "      <th>non_markup_alphanum_characters</th>\n",
       "      <th>numberOfLinks</th>\n",
       "      <th>numwords_in_url</th>\n",
       "      <th>parametrizedLinkRatio</th>\n",
       "      <th>spelling_errors_ratio</th>\n",
       "    </tr>\n",
       "  </thead>\n",
       "  <tbody>\n",
       "    <tr>\n",
       "      <th>0</th>\n",
       "      <td>http://www.lynnskitchenadventures.com/2009/04/...</td>\n",
       "      <td>5865</td>\n",
       "      <td>{\"title\":\"Homemade Enchilada Sauce Lynn s Kitc...</td>\n",
       "      <td>recreation</td>\n",
       "      <td>0.443906</td>\n",
       "      <td>2.558140</td>\n",
       "      <td>0.389706</td>\n",
       "      <td>0.257353</td>\n",
       "      <td>0.044118</td>\n",
       "      <td>0.022059</td>\n",
       "      <td>...</td>\n",
       "      <td>0.199438</td>\n",
       "      <td>1.0</td>\n",
       "      <td>1</td>\n",
       "      <td>15</td>\n",
       "      <td>0.0</td>\n",
       "      <td>5643</td>\n",
       "      <td>136</td>\n",
       "      <td>3</td>\n",
       "      <td>0.242647</td>\n",
       "      <td>0.080597</td>\n",
       "    </tr>\n",
       "    <tr>\n",
       "      <th>1</th>\n",
       "      <td>http://lolpics.se/18552-stun-grenade-ar</td>\n",
       "      <td>782</td>\n",
       "      <td>{\"title\":\"lolpics Stun grenade ar \",\"body\":\" f...</td>\n",
       "      <td>culture_politics</td>\n",
       "      <td>0.135844</td>\n",
       "      <td>3.771429</td>\n",
       "      <td>0.461538</td>\n",
       "      <td>0.205128</td>\n",
       "      <td>0.051282</td>\n",
       "      <td>0.000000</td>\n",
       "      <td>...</td>\n",
       "      <td>0.080000</td>\n",
       "      <td>NaN</td>\n",
       "      <td>1</td>\n",
       "      <td>62</td>\n",
       "      <td>0.0</td>\n",
       "      <td>382</td>\n",
       "      <td>39</td>\n",
       "      <td>2</td>\n",
       "      <td>0.128205</td>\n",
       "      <td>0.176471</td>\n",
       "    </tr>\n",
       "    <tr>\n",
       "      <th>2</th>\n",
       "      <td>http://www.xcelerationfitness.com/treadmills.html</td>\n",
       "      <td>6962</td>\n",
       "      <td>{\"title\":\"Treadmills \",\"body\":\" treadmills, st...</td>\n",
       "      <td>NaN</td>\n",
       "      <td>NaN</td>\n",
       "      <td>2.269565</td>\n",
       "      <td>0.495726</td>\n",
       "      <td>0.384615</td>\n",
       "      <td>0.170940</td>\n",
       "      <td>0.170940</td>\n",
       "      <td>...</td>\n",
       "      <td>10.000000</td>\n",
       "      <td>NaN</td>\n",
       "      <td>1</td>\n",
       "      <td>42</td>\n",
       "      <td>0.0</td>\n",
       "      <td>2420</td>\n",
       "      <td>117</td>\n",
       "      <td>1</td>\n",
       "      <td>0.581197</td>\n",
       "      <td>0.125000</td>\n",
       "    </tr>\n",
       "    <tr>\n",
       "      <th>3</th>\n",
       "      <td>http://www.bloomberg.com/news/2012-02-06/syria...</td>\n",
       "      <td>7640</td>\n",
       "      <td>{\"title\":\"Father s Tactics Used by Assad to Cr...</td>\n",
       "      <td>culture_politics</td>\n",
       "      <td>0.902590</td>\n",
       "      <td>2.523490</td>\n",
       "      <td>0.705502</td>\n",
       "      <td>0.346278</td>\n",
       "      <td>0.122977</td>\n",
       "      <td>0.090615</td>\n",
       "      <td>...</td>\n",
       "      <td>0.005964</td>\n",
       "      <td>1.0</td>\n",
       "      <td>1</td>\n",
       "      <td>41</td>\n",
       "      <td>0.0</td>\n",
       "      <td>5559</td>\n",
       "      <td>309</td>\n",
       "      <td>10</td>\n",
       "      <td>0.038835</td>\n",
       "      <td>0.063126</td>\n",
       "    </tr>\n",
       "    <tr>\n",
       "      <th>4</th>\n",
       "      <td>http://www.wired.com/gadgetlab/2011/12/stem-tu...</td>\n",
       "      <td>3589</td>\n",
       "      <td>{\"title\":\"Stem Turns Lemons and Limes Into Jui...</td>\n",
       "      <td>science_technology</td>\n",
       "      <td>0.486363</td>\n",
       "      <td>1.848000</td>\n",
       "      <td>0.470968</td>\n",
       "      <td>0.161290</td>\n",
       "      <td>0.032258</td>\n",
       "      <td>0.000000</td>\n",
       "      <td>...</td>\n",
       "      <td>0.035714</td>\n",
       "      <td>1.0</td>\n",
       "      <td>0</td>\n",
       "      <td>34</td>\n",
       "      <td>0.0</td>\n",
       "      <td>2209</td>\n",
       "      <td>155</td>\n",
       "      <td>10</td>\n",
       "      <td>0.096774</td>\n",
       "      <td>0.065341</td>\n",
       "    </tr>\n",
       "  </tbody>\n",
       "</table>\n",
       "<p>5 rows × 26 columns</p>\n",
       "</div>"
      ],
      "text/plain": [
       "                                                 url  urlid  \\\n",
       "0  http://www.lynnskitchenadventures.com/2009/04/...   5865   \n",
       "1            http://lolpics.se/18552-stun-grenade-ar    782   \n",
       "2  http://www.xcelerationfitness.com/treadmills.html   6962   \n",
       "3  http://www.bloomberg.com/news/2012-02-06/syria...   7640   \n",
       "4  http://www.wired.com/gadgetlab/2011/12/stem-tu...   3589   \n",
       "\n",
       "                                         boilerplate    alchemy_category  \\\n",
       "0  {\"title\":\"Homemade Enchilada Sauce Lynn s Kitc...          recreation   \n",
       "1  {\"title\":\"lolpics Stun grenade ar \",\"body\":\" f...    culture_politics   \n",
       "2  {\"title\":\"Treadmills \",\"body\":\" treadmills, st...                 NaN   \n",
       "3  {\"title\":\"Father s Tactics Used by Assad to Cr...    culture_politics   \n",
       "4  {\"title\":\"Stem Turns Lemons and Limes Into Jui...  science_technology   \n",
       "\n",
       "   alchemy_category_score  avglinksize  commonlinkratio_1  commonlinkratio_2  \\\n",
       "0                0.443906     2.558140           0.389706           0.257353   \n",
       "1                0.135844     3.771429           0.461538           0.205128   \n",
       "2                     NaN     2.269565           0.495726           0.384615   \n",
       "3                0.902590     2.523490           0.705502           0.346278   \n",
       "4                0.486363     1.848000           0.470968           0.161290   \n",
       "\n",
       "   commonlinkratio_3  commonlinkratio_4  ...  image_ratio  is_news  \\\n",
       "0           0.044118           0.022059  ...     0.199438      1.0   \n",
       "1           0.051282           0.000000  ...     0.080000      NaN   \n",
       "2           0.170940           0.170940  ...    10.000000      NaN   \n",
       "3           0.122977           0.090615  ...     0.005964      1.0   \n",
       "4           0.032258           0.000000  ...     0.035714      1.0   \n",
       "\n",
       "   lengthyLinkDomain  linkwordscore  news_front_page  \\\n",
       "0                  1             15              0.0   \n",
       "1                  1             62              0.0   \n",
       "2                  1             42              0.0   \n",
       "3                  1             41              0.0   \n",
       "4                  0             34              0.0   \n",
       "\n",
       "   non_markup_alphanum_characters  numberOfLinks  numwords_in_url  \\\n",
       "0                            5643            136                3   \n",
       "1                             382             39                2   \n",
       "2                            2420            117                1   \n",
       "3                            5559            309               10   \n",
       "4                            2209            155               10   \n",
       "\n",
       "   parametrizedLinkRatio  spelling_errors_ratio  \n",
       "0               0.242647               0.080597  \n",
       "1               0.128205               0.176471  \n",
       "2               0.581197               0.125000  \n",
       "3               0.038835               0.063126  \n",
       "4               0.096774               0.065341  \n",
       "\n",
       "[5 rows x 26 columns]"
      ]
     },
     "execution_count": 46,
     "metadata": {},
     "output_type": "execute_result"
    }
   ],
   "source": [
    "test = pd.read_csv('test.tsv', sep = '\\t', na_values = '?')\n",
    "test.head()"
   ]
  },
  {
   "cell_type": "markdown",
   "metadata": {
    "id": "5Bk6iQE66n7k"
   },
   "source": [
    "# Data Exploration"
   ]
  },
  {
   "cell_type": "code",
   "execution_count": 47,
   "metadata": {
    "colab": {
     "base_uri": "https://localhost:8080/"
    },
    "id": "_t14OEhhWKOi",
    "outputId": "1ef52040-8d34-4b11-f3d5-50821554318d"
   },
   "outputs": [
    {
     "name": "stdout",
     "output_type": "stream",
     "text": [
      "<class 'pandas.core.frame.DataFrame'>\n",
      "RangeIndex: 7395 entries, 0 to 7394\n",
      "Data columns (total 27 columns):\n",
      " #   Column                          Non-Null Count  Dtype  \n",
      "---  ------                          --------------  -----  \n",
      " 0   url                             7395 non-null   object \n",
      " 1   urlid                           7395 non-null   int64  \n",
      " 2   boilerplate                     7395 non-null   object \n",
      " 3   alchemy_category                5053 non-null   object \n",
      " 4   alchemy_category_score          5053 non-null   float64\n",
      " 5   avglinksize                     7395 non-null   float64\n",
      " 6   commonlinkratio_1               7395 non-null   float64\n",
      " 7   commonlinkratio_2               7395 non-null   float64\n",
      " 8   commonlinkratio_3               7395 non-null   float64\n",
      " 9   commonlinkratio_4               7395 non-null   float64\n",
      " 10  compression_ratio               7395 non-null   float64\n",
      " 11  embed_ratio                     7395 non-null   float64\n",
      " 12  framebased                      7395 non-null   int64  \n",
      " 13  frameTagRatio                   7395 non-null   float64\n",
      " 14  hasDomainLink                   7395 non-null   int64  \n",
      " 15  html_ratio                      7395 non-null   float64\n",
      " 16  image_ratio                     7395 non-null   float64\n",
      " 17  is_news                         4552 non-null   float64\n",
      " 18  lengthyLinkDomain               7395 non-null   int64  \n",
      " 19  linkwordscore                   7395 non-null   int64  \n",
      " 20  news_front_page                 6147 non-null   float64\n",
      " 21  non_markup_alphanum_characters  7395 non-null   int64  \n",
      " 22  numberOfLinks                   7395 non-null   int64  \n",
      " 23  numwords_in_url                 7395 non-null   int64  \n",
      " 24  parametrizedLinkRatio           7395 non-null   float64\n",
      " 25  spelling_errors_ratio           7395 non-null   float64\n",
      " 26  label                           7395 non-null   int64  \n",
      "dtypes: float64(15), int64(9), object(3)\n",
      "memory usage: 1.5+ MB\n"
     ]
    }
   ],
   "source": [
    "train.info()"
   ]
  },
  {
   "cell_type": "markdown",
   "metadata": {
    "id": "V2-4KThDo4gP"
   },
   "source": [
    "**alchemy_category_score, news_front_page, is_news not in correct datatype**"
   ]
  },
  {
   "cell_type": "code",
   "execution_count": 48,
   "metadata": {
    "colab": {
     "base_uri": "https://localhost:8080/"
    },
    "id": "lIH9Z6ZCgJyG",
    "outputId": "ab2d138e-a266-4533-ec73-614e58ca94dc"
   },
   "outputs": [
    {
     "data": {
      "text/plain": [
       "url                                  0\n",
       "urlid                                0\n",
       "boilerplate                          0\n",
       "alchemy_category                  2342\n",
       "alchemy_category_score            2342\n",
       "avglinksize                          0\n",
       "commonlinkratio_1                    0\n",
       "commonlinkratio_2                    0\n",
       "commonlinkratio_3                    0\n",
       "commonlinkratio_4                    0\n",
       "compression_ratio                    0\n",
       "embed_ratio                          0\n",
       "framebased                           0\n",
       "frameTagRatio                        0\n",
       "hasDomainLink                        0\n",
       "html_ratio                           0\n",
       "image_ratio                          0\n",
       "is_news                           2843\n",
       "lengthyLinkDomain                    0\n",
       "linkwordscore                        0\n",
       "news_front_page                   1248\n",
       "non_markup_alphanum_characters       0\n",
       "numberOfLinks                        0\n",
       "numwords_in_url                      0\n",
       "parametrizedLinkRatio                0\n",
       "spelling_errors_ratio                0\n",
       "label                                0\n",
       "dtype: int64"
      ]
     },
     "execution_count": 48,
     "metadata": {},
     "output_type": "execute_result"
    }
   ],
   "source": [
    "train.isnull().sum()"
   ]
  },
  {
   "cell_type": "code",
   "execution_count": 49,
   "metadata": {
    "colab": {
     "base_uri": "https://localhost:8080/",
     "height": 317
    },
    "id": "jISIT2n5gUVA",
    "outputId": "80023f47-c922-4032-ebf5-a39c622538fb"
   },
   "outputs": [
    {
     "data": {
      "text/html": [
       "<div>\n",
       "<style scoped>\n",
       "    .dataframe tbody tr th:only-of-type {\n",
       "        vertical-align: middle;\n",
       "    }\n",
       "\n",
       "    .dataframe tbody tr th {\n",
       "        vertical-align: top;\n",
       "    }\n",
       "\n",
       "    .dataframe thead th {\n",
       "        text-align: right;\n",
       "    }\n",
       "</style>\n",
       "<table border=\"1\" class=\"dataframe\">\n",
       "  <thead>\n",
       "    <tr style=\"text-align: right;\">\n",
       "      <th></th>\n",
       "      <th>urlid</th>\n",
       "      <th>alchemy_category_score</th>\n",
       "      <th>avglinksize</th>\n",
       "      <th>commonlinkratio_1</th>\n",
       "      <th>commonlinkratio_2</th>\n",
       "      <th>commonlinkratio_3</th>\n",
       "      <th>commonlinkratio_4</th>\n",
       "      <th>compression_ratio</th>\n",
       "      <th>embed_ratio</th>\n",
       "      <th>framebased</th>\n",
       "      <th>...</th>\n",
       "      <th>is_news</th>\n",
       "      <th>lengthyLinkDomain</th>\n",
       "      <th>linkwordscore</th>\n",
       "      <th>news_front_page</th>\n",
       "      <th>non_markup_alphanum_characters</th>\n",
       "      <th>numberOfLinks</th>\n",
       "      <th>numwords_in_url</th>\n",
       "      <th>parametrizedLinkRatio</th>\n",
       "      <th>spelling_errors_ratio</th>\n",
       "      <th>label</th>\n",
       "    </tr>\n",
       "  </thead>\n",
       "  <tbody>\n",
       "    <tr>\n",
       "      <th>count</th>\n",
       "      <td>7395.000000</td>\n",
       "      <td>5053.000000</td>\n",
       "      <td>7395.000000</td>\n",
       "      <td>7395.000000</td>\n",
       "      <td>7395.000000</td>\n",
       "      <td>7395.000000</td>\n",
       "      <td>7395.000000</td>\n",
       "      <td>7395.000000</td>\n",
       "      <td>7395.000000</td>\n",
       "      <td>7395.0</td>\n",
       "      <td>...</td>\n",
       "      <td>4552.0</td>\n",
       "      <td>7395.000000</td>\n",
       "      <td>7395.000000</td>\n",
       "      <td>6147.000000</td>\n",
       "      <td>7395.000000</td>\n",
       "      <td>7395.000000</td>\n",
       "      <td>7395.000000</td>\n",
       "      <td>7395.000000</td>\n",
       "      <td>7395.000000</td>\n",
       "      <td>7395.000000</td>\n",
       "    </tr>\n",
       "    <tr>\n",
       "      <th>mean</th>\n",
       "      <td>5305.704665</td>\n",
       "      <td>0.603334</td>\n",
       "      <td>2.761823</td>\n",
       "      <td>0.468230</td>\n",
       "      <td>0.214080</td>\n",
       "      <td>0.092062</td>\n",
       "      <td>0.049262</td>\n",
       "      <td>2.255103</td>\n",
       "      <td>-0.103750</td>\n",
       "      <td>0.0</td>\n",
       "      <td>...</td>\n",
       "      <td>1.0</td>\n",
       "      <td>0.660311</td>\n",
       "      <td>30.077079</td>\n",
       "      <td>0.047828</td>\n",
       "      <td>5716.598242</td>\n",
       "      <td>178.754564</td>\n",
       "      <td>4.960649</td>\n",
       "      <td>0.172864</td>\n",
       "      <td>0.101221</td>\n",
       "      <td>0.513320</td>\n",
       "    </tr>\n",
       "    <tr>\n",
       "      <th>std</th>\n",
       "      <td>3048.384114</td>\n",
       "      <td>0.212864</td>\n",
       "      <td>8.619793</td>\n",
       "      <td>0.203133</td>\n",
       "      <td>0.146743</td>\n",
       "      <td>0.095978</td>\n",
       "      <td>0.072629</td>\n",
       "      <td>5.704313</td>\n",
       "      <td>0.306545</td>\n",
       "      <td>0.0</td>\n",
       "      <td>...</td>\n",
       "      <td>0.0</td>\n",
       "      <td>0.473636</td>\n",
       "      <td>20.393101</td>\n",
       "      <td>0.213420</td>\n",
       "      <td>8875.432430</td>\n",
       "      <td>179.466198</td>\n",
       "      <td>3.233111</td>\n",
       "      <td>0.183286</td>\n",
       "      <td>0.079231</td>\n",
       "      <td>0.499856</td>\n",
       "    </tr>\n",
       "    <tr>\n",
       "      <th>min</th>\n",
       "      <td>1.000000</td>\n",
       "      <td>0.070833</td>\n",
       "      <td>0.000000</td>\n",
       "      <td>0.000000</td>\n",
       "      <td>0.000000</td>\n",
       "      <td>0.000000</td>\n",
       "      <td>0.000000</td>\n",
       "      <td>0.000000</td>\n",
       "      <td>-1.000000</td>\n",
       "      <td>0.0</td>\n",
       "      <td>...</td>\n",
       "      <td>1.0</td>\n",
       "      <td>0.000000</td>\n",
       "      <td>0.000000</td>\n",
       "      <td>0.000000</td>\n",
       "      <td>0.000000</td>\n",
       "      <td>1.000000</td>\n",
       "      <td>0.000000</td>\n",
       "      <td>0.000000</td>\n",
       "      <td>0.000000</td>\n",
       "      <td>0.000000</td>\n",
       "    </tr>\n",
       "    <tr>\n",
       "      <th>25%</th>\n",
       "      <td>2688.500000</td>\n",
       "      <td>0.452424</td>\n",
       "      <td>1.602062</td>\n",
       "      <td>0.340370</td>\n",
       "      <td>0.105263</td>\n",
       "      <td>0.022222</td>\n",
       "      <td>0.000000</td>\n",
       "      <td>0.442616</td>\n",
       "      <td>0.000000</td>\n",
       "      <td>0.0</td>\n",
       "      <td>...</td>\n",
       "      <td>1.0</td>\n",
       "      <td>0.000000</td>\n",
       "      <td>14.000000</td>\n",
       "      <td>0.000000</td>\n",
       "      <td>1579.000000</td>\n",
       "      <td>82.000000</td>\n",
       "      <td>3.000000</td>\n",
       "      <td>0.040984</td>\n",
       "      <td>0.068739</td>\n",
       "      <td>0.000000</td>\n",
       "    </tr>\n",
       "    <tr>\n",
       "      <th>50%</th>\n",
       "      <td>5304.000000</td>\n",
       "      <td>0.625616</td>\n",
       "      <td>2.088235</td>\n",
       "      <td>0.481481</td>\n",
       "      <td>0.202454</td>\n",
       "      <td>0.068627</td>\n",
       "      <td>0.022222</td>\n",
       "      <td>0.483680</td>\n",
       "      <td>0.000000</td>\n",
       "      <td>0.0</td>\n",
       "      <td>...</td>\n",
       "      <td>1.0</td>\n",
       "      <td>1.000000</td>\n",
       "      <td>25.000000</td>\n",
       "      <td>0.000000</td>\n",
       "      <td>3500.000000</td>\n",
       "      <td>139.000000</td>\n",
       "      <td>5.000000</td>\n",
       "      <td>0.113402</td>\n",
       "      <td>0.089312</td>\n",
       "      <td>1.000000</td>\n",
       "    </tr>\n",
       "    <tr>\n",
       "      <th>75%</th>\n",
       "      <td>7946.500000</td>\n",
       "      <td>0.780851</td>\n",
       "      <td>2.627451</td>\n",
       "      <td>0.616604</td>\n",
       "      <td>0.300000</td>\n",
       "      <td>0.133333</td>\n",
       "      <td>0.065065</td>\n",
       "      <td>0.578227</td>\n",
       "      <td>0.000000</td>\n",
       "      <td>0.0</td>\n",
       "      <td>...</td>\n",
       "      <td>1.0</td>\n",
       "      <td>1.000000</td>\n",
       "      <td>43.000000</td>\n",
       "      <td>0.000000</td>\n",
       "      <td>6377.000000</td>\n",
       "      <td>222.000000</td>\n",
       "      <td>7.000000</td>\n",
       "      <td>0.241299</td>\n",
       "      <td>0.112376</td>\n",
       "      <td>1.000000</td>\n",
       "    </tr>\n",
       "    <tr>\n",
       "      <th>max</th>\n",
       "      <td>10566.000000</td>\n",
       "      <td>0.999426</td>\n",
       "      <td>363.000000</td>\n",
       "      <td>1.000000</td>\n",
       "      <td>1.000000</td>\n",
       "      <td>0.980392</td>\n",
       "      <td>0.980392</td>\n",
       "      <td>21.000000</td>\n",
       "      <td>0.250000</td>\n",
       "      <td>0.0</td>\n",
       "      <td>...</td>\n",
       "      <td>1.0</td>\n",
       "      <td>1.000000</td>\n",
       "      <td>100.000000</td>\n",
       "      <td>1.000000</td>\n",
       "      <td>207952.000000</td>\n",
       "      <td>4997.000000</td>\n",
       "      <td>22.000000</td>\n",
       "      <td>1.000000</td>\n",
       "      <td>1.000000</td>\n",
       "      <td>1.000000</td>\n",
       "    </tr>\n",
       "  </tbody>\n",
       "</table>\n",
       "<p>8 rows × 24 columns</p>\n",
       "</div>"
      ],
      "text/plain": [
       "              urlid  alchemy_category_score  avglinksize  commonlinkratio_1  \\\n",
       "count   7395.000000             5053.000000  7395.000000        7395.000000   \n",
       "mean    5305.704665                0.603334     2.761823           0.468230   \n",
       "std     3048.384114                0.212864     8.619793           0.203133   \n",
       "min        1.000000                0.070833     0.000000           0.000000   \n",
       "25%     2688.500000                0.452424     1.602062           0.340370   \n",
       "50%     5304.000000                0.625616     2.088235           0.481481   \n",
       "75%     7946.500000                0.780851     2.627451           0.616604   \n",
       "max    10566.000000                0.999426   363.000000           1.000000   \n",
       "\n",
       "       commonlinkratio_2  commonlinkratio_3  commonlinkratio_4  \\\n",
       "count        7395.000000        7395.000000        7395.000000   \n",
       "mean            0.214080           0.092062           0.049262   \n",
       "std             0.146743           0.095978           0.072629   \n",
       "min             0.000000           0.000000           0.000000   \n",
       "25%             0.105263           0.022222           0.000000   \n",
       "50%             0.202454           0.068627           0.022222   \n",
       "75%             0.300000           0.133333           0.065065   \n",
       "max             1.000000           0.980392           0.980392   \n",
       "\n",
       "       compression_ratio  embed_ratio  framebased  ...  is_news  \\\n",
       "count        7395.000000  7395.000000      7395.0  ...   4552.0   \n",
       "mean            2.255103    -0.103750         0.0  ...      1.0   \n",
       "std             5.704313     0.306545         0.0  ...      0.0   \n",
       "min             0.000000    -1.000000         0.0  ...      1.0   \n",
       "25%             0.442616     0.000000         0.0  ...      1.0   \n",
       "50%             0.483680     0.000000         0.0  ...      1.0   \n",
       "75%             0.578227     0.000000         0.0  ...      1.0   \n",
       "max            21.000000     0.250000         0.0  ...      1.0   \n",
       "\n",
       "       lengthyLinkDomain  linkwordscore  news_front_page  \\\n",
       "count        7395.000000    7395.000000      6147.000000   \n",
       "mean            0.660311      30.077079         0.047828   \n",
       "std             0.473636      20.393101         0.213420   \n",
       "min             0.000000       0.000000         0.000000   \n",
       "25%             0.000000      14.000000         0.000000   \n",
       "50%             1.000000      25.000000         0.000000   \n",
       "75%             1.000000      43.000000         0.000000   \n",
       "max             1.000000     100.000000         1.000000   \n",
       "\n",
       "       non_markup_alphanum_characters  numberOfLinks  numwords_in_url  \\\n",
       "count                     7395.000000    7395.000000      7395.000000   \n",
       "mean                      5716.598242     178.754564         4.960649   \n",
       "std                       8875.432430     179.466198         3.233111   \n",
       "min                          0.000000       1.000000         0.000000   \n",
       "25%                       1579.000000      82.000000         3.000000   \n",
       "50%                       3500.000000     139.000000         5.000000   \n",
       "75%                       6377.000000     222.000000         7.000000   \n",
       "max                     207952.000000    4997.000000        22.000000   \n",
       "\n",
       "       parametrizedLinkRatio  spelling_errors_ratio        label  \n",
       "count            7395.000000            7395.000000  7395.000000  \n",
       "mean                0.172864               0.101221     0.513320  \n",
       "std                 0.183286               0.079231     0.499856  \n",
       "min                 0.000000               0.000000     0.000000  \n",
       "25%                 0.040984               0.068739     0.000000  \n",
       "50%                 0.113402               0.089312     1.000000  \n",
       "75%                 0.241299               0.112376     1.000000  \n",
       "max                 1.000000               1.000000     1.000000  \n",
       "\n",
       "[8 rows x 24 columns]"
      ]
     },
     "execution_count": 49,
     "metadata": {},
     "output_type": "execute_result"
    }
   ],
   "source": [
    "train.describe()"
   ]
  },
  {
   "cell_type": "code",
   "execution_count": 50,
   "metadata": {
    "colab": {
     "base_uri": "https://localhost:8080/",
     "height": 542
    },
    "id": "Bp3AsyaQiLrO",
    "outputId": "0edcfa23-2145-487f-ff4d-7b5bd85cb057"
   },
   "outputs": [
    {
     "data": {
      "image/png": "[encoded data removed]",
      "text/plain": [
       "<Figure size 1152x576 with 1 Axes>"
      ]
     },
     "metadata": {},
     "output_type": "display_data"
    }
   ],
   "source": [
    "plt.figure(figsize = (16,8))\n",
    "sns.countplot(x = train['alchemy_category'], hue = train['label'])\n",
    "plt.xticks(rotation = 45)\n",
    "plt.show()"
   ]
  },
  {
   "cell_type": "markdown",
   "metadata": {
    "id": "CmmtA-AykRv0"
   },
   "source": [
    "* Sports, computer_internet,arts_entertainment,weather seems to be more likely to be non evergreen\n",
    "* business, recreation are more likely to be evergreen than non evergreen"
   ]
  },
  {
   "cell_type": "code",
   "execution_count": 51,
   "metadata": {
    "colab": {
     "base_uri": "https://localhost:8080/",
     "height": 542
    },
    "id": "k78w7BPyosAg",
    "outputId": "89e742fd-6ead-45a0-9e8f-63f750940793"
   },
   "outputs": [
    {
     "data": {
      "image/png": "[encoded data removed]",
      "text/plain": [
       "<Figure size 720x576 with 1 Axes>"
      ]
     },
     "metadata": {},
     "output_type": "display_data"
    }
   ],
   "source": [
    "plt.figure(figsize = (10,8))\n",
    "sns.countplot(x = train['lengthyLinkDomain'], hue = train['label'])\n",
    "plt.show()"
   ]
  },
  {
   "cell_type": "code",
   "execution_count": 52,
   "metadata": {
    "colab": {
     "base_uri": "https://localhost:8080/",
     "height": 542
    },
    "id": "I3yz5ddViLmo",
    "outputId": "dc55c106-825f-4ac1-f2f7-f4f64c3cf36d"
   },
   "outputs": [
    {
     "data": {
      "text/plain": [
       "<matplotlib.axes._subplots.AxesSubplot at 0x7f49c1e84b00>"
      ]
     },
     "execution_count": 52,
     "metadata": {},
     "output_type": "execute_result"
    },
    {
     "data": {
      "image/png": "[encoded data removed]",
      "text/plain": [
       "<Figure size 432x288 with 1 Axes>"
      ]
     },
     "metadata": {},
     "output_type": "display_data"
    }
   ],
   "source": [
    "sns.boxplot(data=train, x = 'label', y = 'spelling_errors_ratio')"
   ]
  },
  {
   "cell_type": "code",
   "execution_count": 53,
   "metadata": {
    "colab": {
     "base_uri": "https://localhost:8080/",
     "height": 542
    },
    "id": "cDCFYAhjiLoc",
    "outputId": "c03bf995-eaf0-42f5-df20-ebc799e3529f"
   },
   "outputs": [],
   "source": [
    "#px.box(data_frame=train, x = 'label', y = 'image_ratio')"
   ]
  },
  {
   "cell_type": "markdown",
   "metadata": {
    "id": "edInrjtB6rrh"
   },
   "source": [
    "# Data Preprocessing"
   ]
  },
  {
   "cell_type": "code",
   "execution_count": 54,
   "metadata": {},
   "outputs": [],
   "source": [
    "def preprocess(df):\n",
    "    stop = set(stopwords.words('english'))\n",
    "    X = []\n",
    "    df = df.apply(lambda x:' '.join([x for x in json.loads(x).values() if x is not None]).lower())\n",
    "    stemmer = PorterStemmer()\n",
    "    \n",
    "    for sent in tqdm(df):\n",
    "        text = re.sub(r'[^a-zA-Z ]+', ' ', sent).strip()\n",
    "        token = word_tokenize(text.lower())\n",
    "        token = [stemmer.stem(i) for i in token if i not in stop]\n",
    "        text = ' '.join(token)\n",
    "        X.append(text)\n",
    "    return X"
   ]
  },
  {
   "cell_type": "code",
   "execution_count": 55,
   "metadata": {},
   "outputs": [
    {
     "data": {
      "application/vnd.jupyter.widget-view+json": {
       "model_id": "9770659bae5a4f4e9cdf7edf990bfec9",
       "version_major": 2,
       "version_minor": 0
      },
      "text/plain": [
       "HBox(children=(FloatProgress(value=0.0, max=7395.0), HTML(value='')))"
      ]
     },
     "metadata": {},
     "output_type": "display_data"
    },
    {
     "name": "stdout",
     "output_type": "stream",
     "text": [
      "\n"
     ]
    }
   ],
   "source": [
    "X = preprocess(train['boilerplate'])\n",
    "Y = train['label']"
   ]
  },
  {
   "cell_type": "code",
   "execution_count": 56,
   "metadata": {},
   "outputs": [
    {
     "data": {
      "application/vnd.jupyter.widget-view+json": {
       "model_id": "d81604cf67a14654953c5720f2c394ef",
       "version_major": 2,
       "version_minor": 0
      },
      "text/plain": [
       "HBox(children=(FloatProgress(value=0.0, max=3171.0), HTML(value='')))"
      ]
     },
     "metadata": {},
     "output_type": "display_data"
    },
    {
     "name": "stdout",
     "output_type": "stream",
     "text": [
      "\n"
     ]
    }
   ],
   "source": [
    "x_test = preprocess(test['boilerplate'])"
   ]
  },
  {
   "cell_type": "code",
   "execution_count": 57,
   "metadata": {},
   "outputs": [],
   "source": [
    "tfidf = TfidfVectorizer(min_df = 0.01)\n",
    "embeds = tfidf.fit_transform(X).toarray()"
   ]
  },
  {
   "cell_type": "code",
   "execution_count": 58,
   "metadata": {},
   "outputs": [],
   "source": [
    "test_embeds = tfidf.transform(x_test).toarray()"
   ]
  },
  {
   "cell_type": "markdown",
   "metadata": {},
   "source": [
    "# Model Training"
   ]
  },
  {
   "cell_type": "code",
   "execution_count": 59,
   "metadata": {},
   "outputs": [
    {
     "name": "stdout",
     "output_type": "stream",
     "text": [
      "[Parallel(n_jobs=1)]: Using backend SequentialBackend with 1 concurrent workers.\n",
      "[CV]  ................................................................\n",
      "[CV] ... , precision=0.829, recall=0.737, roc_auc=0.847, total=   8.3s\n",
      "[Parallel(n_jobs=1)]: Done   1 out of   1 | elapsed:    8.3s remaining:    0.0s\n",
      "[CV]  ................................................................\n",
      "[CV] ... , precision=0.832, recall=0.766, roc_auc=0.864, total=   7.8s\n",
      "[Parallel(n_jobs=1)]: Done   2 out of   2 | elapsed:   16.1s remaining:    0.0s\n",
      "[CV]  ................................................................\n",
      "[CV] ... , precision=0.840, recall=0.742, roc_auc=0.862, total=   7.8s\n",
      "[Parallel(n_jobs=1)]: Done   3 out of   3 | elapsed:   23.9s remaining:    0.0s\n",
      "[Parallel(n_jobs=1)]: Done   3 out of   3 | elapsed:   23.9s finished\n"
     ]
    }
   ],
   "source": [
    "clf = XGBClassifier(use_label_encoder=False, eval_metric = \"logloss\")\n",
    "scores = cross_validate(clf, embeds, Y, cv=3, scoring=['roc_auc','precision','recall'], verbose = 100)"
   ]
  },
  {
   "cell_type": "code",
   "execution_count": 60,
   "metadata": {},
   "outputs": [
    {
     "data": {
      "text/plain": [
       "{'fit_time': array([8.15184379, 7.72612476, 7.71141315]),\n",
       " 'score_time': array([0.09860468, 0.09698629, 0.09668136]),\n",
       " 'test_roc_auc': array([0.84694401, 0.86350823, 0.86156908]),\n",
       " 'test_precision': array([0.82918149, 0.83175966, 0.84003575]),\n",
       " 'test_recall': array([0.73675889, 0.76600791, 0.74249605])}"
      ]
     },
     "execution_count": 60,
     "metadata": {},
     "output_type": "execute_result"
    }
   ],
   "source": [
    "scores"
   ]
  },
  {
   "cell_type": "code",
   "execution_count": 61,
   "metadata": {},
   "outputs": [
    {
     "data": {
      "text/plain": [
       "XGBClassifier(base_score=0.5, booster='gbtree', colsample_bylevel=1,\n",
       "              colsample_bynode=1, colsample_bytree=1, eval_metric='logloss',\n",
       "              gamma=0, gpu_id=-1, importance_type='gain',\n",
       "              interaction_constraints='', learning_rate=0.300000012,\n",
       "              max_delta_step=0, max_depth=6, min_child_weight=1, missing=nan,\n",
       "              monotone_constraints='()', n_estimators=100, n_jobs=12,\n",
       "              num_parallel_tree=1, random_state=0, reg_alpha=0, reg_lambda=1,\n",
       "              scale_pos_weight=1, subsample=1, tree_method='exact',\n",
       "              use_label_encoder=False, validate_parameters=1, verbosity=None)"
      ]
     },
     "execution_count": 61,
     "metadata": {},
     "output_type": "execute_result"
    }
   ],
   "source": [
    "clf.fit(embeds,Y)"
   ]
  },
  {
   "cell_type": "code",
   "execution_count": 62,
   "metadata": {},
   "outputs": [
    {
     "name": "stdout",
     "output_type": "stream",
     "text": [
      "              precision    recall  f1-score   support\n",
      "\n",
      "           0       0.90      0.97      0.94      3599\n",
      "           1       0.97      0.90      0.93      3796\n",
      "\n",
      "    accuracy                           0.93      7395\n",
      "   macro avg       0.94      0.94      0.93      7395\n",
      "weighted avg       0.94      0.93      0.93      7395\n",
      "\n"
     ]
    }
   ],
   "source": [
    "print(classification_report(Y, clf.predict(embeds)))"
   ]
  },
  {
   "cell_type": "code",
   "execution_count": 63,
   "metadata": {},
   "outputs": [],
   "source": [
    "y_preds = clf.predict(test_embeds)"
   ]
  },
  {
   "cell_type": "code",
   "execution_count": 64,
   "metadata": {},
   "outputs": [],
   "source": [
    "pd.DataFrame({'urlid':test['urlid'],'label':y_preds}).to_csv('submit.csv', index=False)"
   ]
  }
 ],
 "metadata": {
  "colab": {
   "collapsed_sections": [],
   "name": "Stylumia NLP Intern - Task Round (Herumb Shandilya).ipynb",
   "provenance": []
  },
  "kernelspec": {
   "display_name": "Python 3",
   "language": "python",
   "name": "python3"
  },
  "language_info": {
   "codemirror_mode": {
    "name": "ipython",
    "version": 3
   },
   "file_extension": ".py",
   "mimetype": "text/x-python",
   "name": "python",
   "nbconvert_exporter": "python",
   "pygments_lexer": "ipython3",
   "version": "3.6.10"
  }
 },
 "nbformat": 4,
 "nbformat_minor": 1
}
